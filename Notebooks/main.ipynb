{
 "cells": [
  {
   "cell_type": "markdown",
   "metadata": {},
   "source": [
    "### Importing Important Libraries"
   ]
  },
  {
   "cell_type": "code",
   "execution_count": 3,
   "metadata": {},
   "outputs": [
    {
     "name": "stdout",
     "output_type": "stream",
     "text": [
      "Collecting pg8000\n",
      "  Downloading pg8000-1.31.2-py3-none-any.whl (54 kB)\n",
      "     ---------------------------------------- 0.0/54.5 kB ? eta -:--:--\n",
      "     ---------------------------------------- 0.0/54.5 kB ? eta -:--:--\n",
      "     ------- -------------------------------- 10.2/54.5 kB ? eta -:--:--\n",
      "     ------- -------------------------------- 10.2/54.5 kB ? eta -:--:--\n",
      "     ------- -------------------------------- 10.2/54.5 kB ? eta -:--:--\n",
      "     ------- -------------------------------- 10.2/54.5 kB ? eta -:--:--\n",
      "     ------- -------------------------------- 10.2/54.5 kB ? eta -:--:--\n",
      "     ---------------------------- --------- 41.0/54.5 kB 130.7 kB/s eta 0:00:01\n",
      "     ----------------------------------- -- 51.2/54.5 kB 145.8 kB/s eta 0:00:01\n",
      "     ----------------------------------- -- 51.2/54.5 kB 145.8 kB/s eta 0:00:01\n",
      "     ----------------------------------- -- 51.2/54.5 kB 145.8 kB/s eta 0:00:01\n",
      "     --------------------------------------- 54.5/54.5 kB 88.5 kB/s eta 0:00:00\n",
      "Collecting scramp>=1.4.5\n",
      "  Downloading scramp-1.4.5-py3-none-any.whl (12 kB)\n",
      "Requirement already satisfied: python-dateutil>=2.8.2 in c:\\users\\admin\\.pyenv\\pyenv-win\\versions\\3.10.11\\lib\\site-packages (from pg8000) (2.9.0.post0)\n",
      "Requirement already satisfied: six>=1.5 in c:\\users\\admin\\.pyenv\\pyenv-win\\versions\\3.10.11\\lib\\site-packages (from python-dateutil>=2.8.2->pg8000) (1.17.0)\n",
      "Collecting asn1crypto>=1.5.1\n",
      "  Downloading asn1crypto-1.5.1-py2.py3-none-any.whl (105 kB)\n",
      "     ---------------------------------------- 0.0/105.0 kB ? eta -:--:--\n",
      "     --- ------------------------------------ 10.2/105.0 kB ? eta -:--:--\n",
      "     --- ------------------------------------ 10.2/105.0 kB ? eta -:--:--\n",
      "     ---------- -------------------------- 30.7/105.0 kB 100.9 kB/s eta 0:00:01\n",
      "     ---------- -------------------------- 30.7/105.0 kB 100.9 kB/s eta 0:00:01\n",
      "     ---------- -------------------------- 30.7/105.0 kB 100.9 kB/s eta 0:00:01\n",
      "     ---------- -------------------------- 30.7/105.0 kB 100.9 kB/s eta 0:00:01\n",
      "     ---------- -------------------------- 30.7/105.0 kB 100.9 kB/s eta 0:00:01\n",
      "     ---------- -------------------------- 30.7/105.0 kB 100.9 kB/s eta 0:00:01\n",
      "     ---------- -------------------------- 30.7/105.0 kB 100.9 kB/s eta 0:00:01\n",
      "     ---------- -------------------------- 30.7/105.0 kB 100.9 kB/s eta 0:00:01\n",
      "     ---------- -------------------------- 30.7/105.0 kB 100.9 kB/s eta 0:00:01\n",
      "     ---------- -------------------------- 30.7/105.0 kB 100.9 kB/s eta 0:00:01\n",
      "     ---------- -------------------------- 30.7/105.0 kB 100.9 kB/s eta 0:00:01\n",
      "     ---------- -------------------------- 30.7/105.0 kB 100.9 kB/s eta 0:00:01\n",
      "     ---------- -------------------------- 30.7/105.0 kB 100.9 kB/s eta 0:00:01\n",
      "     ---------- -------------------------- 30.7/105.0 kB 100.9 kB/s eta 0:00:01\n",
      "     ---------- -------------------------- 30.7/105.0 kB 100.9 kB/s eta 0:00:01\n",
      "     ---------- -------------------------- 30.7/105.0 kB 100.9 kB/s eta 0:00:01\n",
      "     -------------- ----------------------- 41.0/105.0 kB 25.9 kB/s eta 0:00:03\n",
      "     -------------- ----------------------- 41.0/105.0 kB 25.9 kB/s eta 0:00:03\n",
      "     -------------- ----------------------- 41.0/105.0 kB 25.9 kB/s eta 0:00:03\n",
      "     -------------- ----------------------- 41.0/105.0 kB 25.9 kB/s eta 0:00:03\n",
      "     -------------- ----------------------- 41.0/105.0 kB 25.9 kB/s eta 0:00:03\n",
      "     ------------------------- ------------ 71.7/105.0 kB 38.5 kB/s eta 0:00:01\n",
      "     --------------------------------- ---- 92.2/105.0 kB 50.9 kB/s eta 0:00:01\n",
      "     ------------------------------------  102.4/105.0 kB 54.1 kB/s eta 0:00:01\n",
      "     ------------------------------------  102.4/105.0 kB 54.1 kB/s eta 0:00:01\n",
      "     ------------------------------------  102.4/105.0 kB 54.1 kB/s eta 0:00:01\n",
      "     ------------------------------------- 105.0/105.0 kB 50.6 kB/s eta 0:00:00\n",
      "Installing collected packages: asn1crypto, scramp, pg8000\n",
      "Successfully installed asn1crypto-1.5.1 pg8000-1.31.2 scramp-1.4.5\n",
      "Note: you may need to restart the kernel to use updated packages.\n"
     ]
    },
    {
     "name": "stderr",
     "output_type": "stream",
     "text": [
      "\n",
      "[notice] A new release of pip is available: 23.0.1 -> 25.0.1\n",
      "[notice] To update, run: c:\\Users\\Admin\\.pyenv\\pyenv-win\\versions\\3.10.11\\python.exe -m pip install --upgrade pip\n"
     ]
    }
   ],
   "source": [
    "pip install pg8000"
   ]
  },
  {
   "cell_type": "code",
   "execution_count": 7,
   "metadata": {},
   "outputs": [],
   "source": [
    "import pandas as pd\n",
    "import numpy as np\n",
    "import matplotlib.pyplot as plt\n",
    "import seaborn as sns\n",
    "# Add the scripts folder to the system path so we can import time_series.py\n",
    "import sys\n",
    "import os\n",
    "from scipy.stats import zscore\n",
    "# for a folder that contain scripts for modularity \n",
    "sys.path.append(os.path.abspath('../scripts'))\n",
    "sys.path.append(os.path.abspath('../src')) \n",
    "from preprocessing import NoiseHandling\n",
    "from data_loader import FileLoader\n",
    "from path import FilePathManager\n",
    "from connection import Db_Connection\n",
    "from eda import EDA\n",
    "from user_overview_analysis import UserOverviewAnalysis\n",
    "from user_engagement_analysis import user_engagement_analysis\n",
    "from user_satisfaction_analysis import UserSatisfactionAnalysis\n",
    "from plot import Plot"
   ]
  },
  {
   "cell_type": "markdown",
   "metadata": {},
   "source": [
    "#### Here I connect the postgress database then I read data from the table `xdr_data` then transform it to dataframe store it on a variable df"
   ]
  },
  {
   "cell_type": "code",
   "execution_count": null,
   "metadata": {},
   "outputs": [],
   "source": []
  }
 ],
 "metadata": {
  "kernelspec": {
   "display_name": "Python 3",
   "language": "python",
   "name": "python3"
  },
  "language_info": {
   "codemirror_mode": {
    "name": "ipython",
    "version": 3
   },
   "file_extension": ".py",
   "mimetype": "text/x-python",
   "name": "python",
   "nbconvert_exporter": "python",
   "pygments_lexer": "ipython3",
   "version": "3.10.11"
  }
 },
 "nbformat": 4,
 "nbformat_minor": 2
}
